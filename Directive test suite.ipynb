{
 "cells": [
  {
   "cell_type": "code",
   "execution_count": 1,
   "metadata": {
    "collapsed": false
   },
   "outputs": [
    {
     "name": "stdout",
     "output_type": "stream",
     "text": [
      " -- TRUNCATE AT INDEX 663.000000 ---\n",
      "15661937.0487\n",
      "prev_data_pathname = ['/Users/tecman26/Documents/College/ACRES_REU/parameter_study/trial_test/step0/run_mcmcPS_1_a0.666009_b0.680198']\n",
      " -- TRUNCATE AT INDEX 663.000000 ---\n",
      "/Users/tecman26/Documents/College/ACRES_REU/parameter_study/trial_test/step0/run_mcmcPS_1_a0.666009_b0.680198/output/sim_output/run_mcmcPS_1_a0.666009_b0.680198hdf5_chk_0012\n"
     ]
    },
    {
     "name": "stderr",
     "output_type": "stream",
     "text": [
      "yt : [INFO     ] 2018-06-18 10:01:41,006 Particle file found: run_mcmcPS_1_a0.666009_b0.680198hdf5_chk_0012\n",
      "yt : [WARNING  ] 2018-06-18 10:01:41,042 Extending phi dimension to 2PI + left edge.\n",
      "yt : [WARNING  ] 2018-06-18 10:01:41,043 Extending theta dimension to PI + left edge.\n",
      "yt : [INFO     ] 2018-06-18 10:01:41,067 Parameters: current_time              = 0.12500024035\n",
      "yt : [INFO     ] 2018-06-18 10:01:41,068 Parameters: domain_dimensions         = [128   1   1]\n",
      "yt : [INFO     ] 2018-06-18 10:01:41,071 Parameters: domain_left_edge          = [ 0.  0.  0.]\n",
      "yt : [INFO     ] 2018-06-18 10:01:41,072 Parameters: domain_right_edge         = [  1.50000000e+09   3.14159265e+00   6.28318531e+00]\n",
      "yt : [INFO     ] 2018-06-18 10:01:41,073 Parameters: cosmological_simulation   = 0.0\n"
     ]
    },
    {
     "name": "stdout",
     "output_type": "stream",
     "text": [
      " -- TRUNCATE AT INDEX 663.000000 ---\n",
      "/Users/tecman26/Documents/College/ACRES_REU/parameter_study/trial_test/step1/run_mcmcPS_1_a0.643667_b0.703274/output/sim_output/run_mcmcPS_1_a0.643667_b0.703274hdf5_chk_0012\n"
     ]
    },
    {
     "name": "stderr",
     "output_type": "stream",
     "text": [
      "yt : [INFO     ] 2018-06-18 10:01:45,901 Particle file found: run_mcmcPS_1_a0.643667_b0.703274hdf5_chk_0012\n",
      "yt : [WARNING  ] 2018-06-18 10:01:45,930 Extending phi dimension to 2PI + left edge.\n",
      "yt : [WARNING  ] 2018-06-18 10:01:45,931 Extending theta dimension to PI + left edge.\n",
      "yt : [INFO     ] 2018-06-18 10:01:45,949 Parameters: current_time              = 0.125000090803\n",
      "yt : [INFO     ] 2018-06-18 10:01:45,949 Parameters: domain_dimensions         = [128   1   1]\n",
      "yt : [INFO     ] 2018-06-18 10:01:45,951 Parameters: domain_left_edge          = [ 0.  0.  0.]\n",
      "yt : [INFO     ] 2018-06-18 10:01:45,952 Parameters: domain_right_edge         = [  1.00000000e+09   3.14159265e+00   6.28318531e+00]\n",
      "yt : [INFO     ] 2018-06-18 10:01:45,952 Parameters: cosmological_simulation   = 0.0\n"
     ]
    },
    {
     "name": "stdout",
     "output_type": "stream",
     "text": [
      "()\n",
      "()\n"
     ]
    },
    {
     "ename": "NameError",
     "evalue": "name 'pos_g_dict' is not defined",
     "output_type": "error",
     "traceback": [
      "\u001b[0;31m---------------------------------------------------------------------------\u001b[0m",
      "\u001b[0;31mNameError\u001b[0m                                 Traceback (most recent call last)",
      "\u001b[0;32m<ipython-input-1-03271eff3a97>\u001b[0m in \u001b[0;36m<module>\u001b[0;34m()\u001b[0m\n\u001b[1;32m     70\u001b[0m     \u001b[0;32melse\u001b[0m\u001b[0;34m:\u001b[0m \u001b[0;31m# if acceptance probability exceeds the threshold\u001b[0m\u001b[0;34m\u001b[0m\u001b[0m\n\u001b[1;32m     71\u001b[0m \u001b[0;34m\u001b[0m\u001b[0m\n\u001b[0;32m---> 72\u001b[0;31m         \u001b[0mfinal_positions\u001b[0m\u001b[0;34m.\u001b[0m\u001b[0mappend\u001b[0m\u001b[0;34m(\u001b[0m\u001b[0mpos_g_dict\u001b[0m\u001b[0;34m[\u001b[0m\u001b[0mi\u001b[0m\u001b[0;34m]\u001b[0m\u001b[0;34m)\u001b[0m\u001b[0;34m\u001b[0m\u001b[0m\n\u001b[0m",
      "\u001b[0;31mNameError\u001b[0m: name 'pos_g_dict' is not defined"
     ]
    }
   ],
   "source": [
    "import os\n",
    "import numpy as np\n",
    "from scipy.stats import chisquare\n",
    "from helper_functions import *\n",
    "import glob\n",
    "\n",
    "num_walkers = 2\n",
    "step_num = 1\n",
    "trial_pathname = \"/Users/tecman26/Documents/College/ACRES_REU/parameter_study/trial_test/\"    \n",
    "input_directory = os.path.join(trial_pathname,\"step\"+str(int(step_num)-1))\n",
    "output_directory = os.path.join(trial_pathname,\"step\"+str(step_num))\n",
    "data_dir3D = \"/Users/tecman26/Documents/College/ACRES_REU/parameter_study/3dData\" \n",
    "\n",
    "chi2_mod = lambda obs_array, exp_array: chisquare(obs_array, exp_array)[0] # returns chi2 without p-value\n",
    "                               \n",
    "r_sh_3D, r_3D, v_con_3D, y_e_3D, s_3D = readOutput(data_dir3D, 3)                               \n",
    "                               \n",
    "                               \n",
    "#----Read and compare results of simulations----#\n",
    "\n",
    "final_positions = []\n",
    "\n",
    "for i in range(1,num_walkers+1):\n",
    "\n",
    "    # glob function returns a list that should have only one file (the one with sim_num = i)\n",
    "    prev_data_pathname = glob.glob(os.path.join(input_directory,\"run_mcmcPS_\"+str(i)+\"*\"))\n",
    "    print(\"prev_data_pathname = \"+str(prev_data_pathname))\n",
    "    prev_data_pathname = prev_data_pathname[0]\n",
    "\n",
    "    guess_data_pathname = glob.glob(os.path.join(output_directory,\"run_mcmcPS_\"+str(i)+\"*\"))\n",
    "    guess_data_pathname = guess_data_pathname[0]\n",
    "\n",
    "\n",
    "    r_sh_p, r_p, v_con_p, y_e_p, s_p = readOutput(data_dir3D, 1, prev_data_pathname, step_num-1)\n",
    "    r_sh_g, r_g, v_con_g, y_e_g, s_g = readOutput(data_dir3D, 1, guess_data_pathname, step_num)\n",
    "\n",
    "\n",
    "\n",
    "    #----Metropolis-Hastings Algorithm----#\n",
    "\n",
    "    # Calculate chi-squared for prev position and guess position\n",
    "\n",
    "    \"\"\"r = []\n",
    "\n",
    "    if len(r_p) < len(r_3D):\n",
    "        r = r_p\n",
    "    else:\n",
    "        r = r_3D \"\"\"\n",
    "\n",
    "    # These chi2 terms can be weighted later\n",
    "    chi2_p = chi2_mod(r_sh_p, r_sh_3D) + chi2_mod(v_con_p, v_con_3D) + chi2_mod(y_e_p, y_e_3D) + chi2_mod(s_p, s_3D)\n",
    "    chi2_g = chi2_mod(r_sh_g, r_sh_3D) + chi2_mod(v_con_g, v_con_3D) + chi2_mod(y_e_g, y_e_3D) + chi2_mod(s_g, s_3D)\n",
    "    print(r_sh_p.shape)\n",
    "    print(r_sh_3D.shape)\n",
    "\n",
    "    # Likelihood ratio of both sets of data (also known as acceptance probability)\n",
    "    p_acc = np.exp(-chi2_g + chi2_p)\n",
    "\n",
    "    p_thresh = np.random.random_sample() # threshold probability, chosen randomly between 0 and 1\n",
    "    \n",
    "    if p_acc < p_thresh: # if acceptance probability doesn't exceed threshold\n",
    "\n",
    "        final_positions.append(pos_prev_dict[i])\n",
    "\n",
    "        # Remove the guess data files from directory and replace with previous data, for use in\n",
    "        # next step.\n",
    "        os.system(\"rm \"+guess_data_pathname)\n",
    "        os.system(\"cp \"+prev_data_pathname+\" \"+output_directory)\n",
    "\n",
    "    else: # if acceptance probability exceeds the threshold\n",
    "\n",
    "        final_positions.append(pos_g_dict[i])"
   ]
  }
 ],
 "metadata": {
  "anaconda-cloud": {},
  "kernelspec": {
   "display_name": "Python [conda env:anaconda3]",
   "language": "python",
   "name": "conda-env-anaconda3-py"
  },
  "language_info": {
   "codemirror_mode": {
    "name": "ipython",
    "version": 3
   },
   "file_extension": ".py",
   "mimetype": "text/x-python",
   "name": "python",
   "nbconvert_exporter": "python",
   "pygments_lexer": "ipython3",
   "version": "3.5.2"
  }
 },
 "nbformat": 4,
 "nbformat_minor": 1
}
